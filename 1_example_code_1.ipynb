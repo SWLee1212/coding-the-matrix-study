{
 "cells": [
  {
   "cell_type": "code",
   "execution_count": 1,
   "metadata": {},
   "outputs": [
    {
     "data": {
      "text/plain": [
       "{2, 3, 4, 6, 8, 12}"
      ]
     },
     "execution_count": 1,
     "metadata": {},
     "output_type": "execute_result"
    }
   ],
   "source": [
    "# set comprehesion\n",
    "{x*x for x in {1,2,3,4}}   # for 문 내에서 range를 set로 \n",
    "{x*x for x in {1,2,3,4} | {9,10}} # range를 set으로 설정할 때 집합 연산 결과를 사용할 수 있음\n",
    "{x*x for x in {1,2,3,4} | {9,10} if x>3} # range 중 조건을 만족하는 원소만 for 문을 돌릴 수 있음, 이 구문을 filter라고 함\n",
    "\n",
    "# 두 집합의 카르테시안 곱 \n",
    "# 카르테시안 곱의 결과 집합 크기 집합 x의 크기 * 집합 y의 크기 인데..\n",
    "{x*y for x in {1,2,3} for y in {2,3,4}}\n",
    "# 카르테시안 곱의 결과 집합 크기 집합 x의 크기 * 집합 y의 크기  중 교집합이 전혀 없으면 이를 만족함\n",
    "{x*y for x in {1,2,3} for y in {5,7,9}}\n",
    "\n",
    "# 필터는 가지는 이중 컴프리헨션\n",
    "{ x*y for x in {1,2,3} for y in{2,3,4} if x != y }"
   ]
  },
  {
   "cell_type": "code",
   "execution_count": null,
   "metadata": {
    "collapsed": true
   },
   "outputs": [],
   "source": [
    "#Task 1.5.9\n",
    "S={1,2,3,4}\n",
    "T={3,4,5,6}\n",
    "\n",
    "\n",
    "{x for x in S if x in T}\n",
    "S & T"
   ]
  },
  {
   "cell_type": "code",
   "execution_count": null,
   "metadata": {
    "collapsed": true
   },
   "outputs": [],
   "source": [
    "[{1,2},3]\n",
    "# {{1,2},3} # set은 set을 원소로 가질 수 없음\n",
    "# {[1,2],3} # set은 변경 가능한 원소를 가질 수 없음"
   ]
  },
  {
   "cell_type": "code",
   "execution_count": null,
   "metadata": {
    "collapsed": true
   },
   "outputs": [],
   "source": [
    "#Task 1.5.10\n",
    "sum([20,10,15,75])/len([20,10,15,75])"
   ]
  },
  {
   "cell_type": "code",
   "execution_count": null,
   "metadata": {
    "collapsed": true
   },
   "outputs": [],
   "source": [
    "#Task 1.5.11\n",
    "A = ['A', 'B', 'C']\n",
    "B = [1,2,3]\n",
    "\n",
    "[[x,y] for x in A for y in B]"
   ]
  },
  {
   "cell_type": "code",
   "execution_count": null,
   "metadata": {
    "collapsed": true
   },
   "outputs": [],
   "source": [
    "#Task 1.5.12\n",
    "A = [[.25,.75,.1],[-1,0],[4,4,4,4]]\n",
    "\n",
    "sum([sum(x) for x in A])"
   ]
  },
  {
   "cell_type": "code",
   "execution_count": null,
   "metadata": {
    "collapsed": true
   },
   "outputs": [],
   "source": [
    "#Task 1.5.13\n",
    "[a,b] = [4,1,3,2]   # unpacking 하려면 좌우 변의 변수의 개수가 같아야 함\n",
    "[a,b,c,d,e] = [4,1,3,2]   # unpacking 하려면 좌우 변의 변수의 개수가 같아야 함"
   ]
  },
  {
   "cell_type": "code",
   "execution_count": null,
   "metadata": {
    "collapsed": true
   },
   "outputs": [],
   "source": [
    "# unpacking 을 리스트 컴프리헨션으로 처리\n",
    "[y for (x,y) in [(1,'A'), (2,'B'), (3,'C')]]"
   ]
  },
  {
   "cell_type": "code",
   "execution_count": 26,
   "metadata": {},
   "outputs": [
    {
     "data": {
      "text/plain": [
       "[(-4, 2, 2),\n",
       " (-2, 1, 1),\n",
       " (-2, 2, 0),\n",
       " (-2, 0, 2),\n",
       " (1, -2, 1),\n",
       " (1, 1, -2),\n",
       " (2, -4, 2),\n",
       " (2, -2, 0),\n",
       " (2, 2, -4),\n",
       " (2, 0, -2),\n",
       " (0, -2, 2),\n",
       " (0, 2, -2)]"
      ]
     },
     "execution_count": 26,
     "metadata": {},
     "output_type": "execute_result"
    }
   ],
   "source": [
    "# Task 1.5.14\n",
    "S = (-4,-2,1,2,5,0)\n",
    "\n",
    "[(x,y,z) for x in S for y in S for z in S if (x+y+z) == 0]\n",
    "\n",
    "# Task 1.5.15\n",
    "[(x,y,z) for x in S for y in S for z in S if (x+y+z) == 0 and (x,y,z) !=(0,0,0)]\n",
    "\n",
    "# Task 1.5.16\n",
    "[(x,y,z) for x in S for y in S for z in S if (x+y+z) == 0 and (x,y,z) !=(0,0,0)]\n",
    "\n"
   ]
  },
  {
   "cell_type": "code",
   "execution_count": null,
   "metadata": {
    "collapsed": true
   },
   "outputs": [],
   "source": [
    "set(range(10))\n",
    "set([1,2,3])\n",
    "list({1,2,3})\n",
    "set((1,2,3))\n",
    "tuple({1,2,3})\n",
    "\n",
    "# Task 1.5.17\n",
    "L = [1,2,3,3]\n",
    "print(len(L), len(list(set(L))))"
   ]
  },
  {
   "cell_type": "code",
   "execution_count": null,
   "metadata": {
    "collapsed": true
   },
   "outputs": [],
   "source": [
    "(i for i in range(10))  # generator \n",
    "tuple(i for i in range(10)) # generator -> tuple\n",
    "list(i for i in range(10)) # generator ->  list\n",
    "set(i for i in range(10)) # generator ->  set\n",
    "\n",
    "# Task 1.5.18\n",
    "[x for x in range(100) if x & 1]     # 1~100까지 홀수, list 컴프리헨션으로 뽑기\n",
    "list(range(1,100,2))                 # 1~100까지 홀수, range 식으로 뽑기"
   ]
  },
  {
   "cell_type": "code",
   "execution_count": null,
   "metadata": {
    "collapsed": true
   },
   "outputs": [],
   "source": [
    "list(zip([1,3,5],[2,4,6]))\n",
    "\n",
    "charactors = ['Neo', 'Morpheus', 'Trinity']\n",
    "actors = ['Keanu','Laurence','Carrie-Anne']\n",
    "set(zip(charactors,actors))\n",
    "\n",
    "[charactor+' is played by '+actor for (charactor, actor) in zip(charactors, actors)]"
   ]
  },
  {
   "cell_type": "code",
   "execution_count": null,
   "metadata": {
    "collapsed": true
   },
   "outputs": [],
   "source": [
    "# Task 1.5.19\n",
    "A = ['A','B','C','D','E']\n",
    "\n",
    "list(zip(range(5),A))\n",
    "\n",
    "# Task 1.5.20\n",
    "A = [10, 25,40]\n",
    "B = [1,15, 20]\n",
    "[a + b for (a,b) in zip(A,B)]\n",
    "\n",
    "[x*x for x in reversed(A)]  # interator를 역으로 매길수 있음, reversed"
   ]
  },
  {
   "cell_type": "code",
   "execution_count": 21,
   "metadata": {},
   "outputs": [
    {
     "data": {
      "text/plain": [
       "'Not Here'"
      ]
     },
     "execution_count": 21,
     "metadata": {},
     "output_type": "execute_result"
    }
   ],
   "source": [
    "# Task 1.5.21\n",
    "# dictionary type 을 {key:value} 형태로 표현됨, 함수를 나타내는 집합으로 표현하기 좋음, \n",
    "dlist = [{'James':'Sean', 'director':'Terence'},{'James':'Roger', 'director':'Lewis'}, {'James':'Pierce', 'director':'Roger'}]\n",
    "\n",
    "k = 'James'\n",
    "[x[k] for x in dlist]\n",
    "\n",
    "# Task 1.5.22\n",
    "dlist = [{'Bilbo':'Ian','Frodo':'Elijah'}, {'Bilbo':'Martin','Thorin':'Richard'}]\n",
    "\n",
    "k1 = 'Frodo'\n",
    "k2 = 'Bilbo'\n",
    "# dlist[1] if k1 in dlist[1]else 'NOT PRESENT'\n",
    "[x[k1] if k1 in x else 'NOT PRESENT' for x in dlist]\n",
    "\n",
    "dlist[1][k1] if k1 in dlist[1] else 'Not Here'"
   ]
  },
  {
   "cell_type": "code",
   "execution_count": null,
   "metadata": {
    "collapsed": true
   },
   "outputs": [],
   "source": [
    "{k:v for (k,v) in [(3,2),(4,0),(100,1)]}\n",
    "{(x,y) : x*y for x in [1,2,3] for y in [1,2,3]}\n",
    "# Task 1.5.23\n",
    "{x:x**2 for x in range(100)}"
   ]
  },
  {
   "cell_type": "code",
   "execution_count": 32,
   "metadata": {},
   "outputs": [
    {
     "data": {
      "text/plain": [
       "0"
      ]
     },
     "execution_count": 32,
     "metadata": {},
     "output_type": "execute_result"
    }
   ],
   "source": [
    "# Task 1.5.24\n",
    "{ x:x for x in {'red','white','blue'}}\n",
    "\n",
    "# Task 1.5.25\n",
    "base = 10\n",
    "digits = set(range(base))\n",
    "\n",
    "(7//10)%2\n"
   ]
  },
  {
   "cell_type": "code",
   "execution_count": 4,
   "metadata": {},
   "outputs": [
    {
     "data": {
      "text/plain": [
       "dict_items([(100, 1), (3, 2), (4, 0)])"
      ]
     },
     "execution_count": 4,
     "metadata": {},
     "output_type": "execute_result"
    }
   ],
   "source": [
    "[k for k in {'a':1, 'b':2}.keys() | {'b':3, 'c':4}.keys()]\n",
    "[k for k in {'a':1, 'b':2}.keys() & {'b':3, 'c':4}.keys()]\n",
    "\n",
    "mydict = {'Neo':'Keanu', 'Morpheus':'Laurence', 'Trinity':'Carrie-Anne'}\n",
    "[k + \"is played by \"+v for (k,v) in mydict.items()]\n",
    "\n",
    "[2*k+v for (k,v) in {4:0,3:2,100:1}.items()]   # items() 명령어로 unpacking 할 수 있음\n",
    "{4:0,3:2,100:1}.keys()\n",
    "{4:0,3:2,100:1}.values()\n",
    "{4:0,3:2,100:1}.items()\n",
    "\n"
   ]
  },
  {
   "cell_type": "code",
   "execution_count": 3,
   "metadata": {},
   "outputs": [
    {
     "data": {
      "text/plain": [
       "{1: 230}"
      ]
     },
     "execution_count": 3,
     "metadata": {},
     "output_type": "execute_result"
    }
   ],
   "source": []
  }
 ],
 "metadata": {
  "kernelspec": {
   "display_name": "Python 3",
   "language": "python",
   "name": "python3"
  },
  "language_info": {
   "codemirror_mode": {
    "name": "ipython",
    "version": 3
   },
   "file_extension": ".py",
   "mimetype": "text/x-python",
   "name": "python",
   "nbconvert_exporter": "python",
   "pygments_lexer": "ipython3",
   "version": "3.5.3"
  }
 },
 "nbformat": 4,
 "nbformat_minor": 2
}
