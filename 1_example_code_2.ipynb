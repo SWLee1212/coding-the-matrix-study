{
 "cells": [
  {
   "cell_type": "code",
   "execution_count": 54,
   "metadata": {},
   "outputs": [
    {
     "data": {
      "text/plain": [
       "{'a': 'A', 'b': 'B', 'c': 'C'}"
      ]
     },
     "execution_count": 54,
     "metadata": {},
     "output_type": "execute_result"
    }
   ],
   "source": [
    "def twice(z) :return 2*z\n",
    "def nextInts(L): return [x+1 for x in L]\n",
    "nextInts([1,5,7])\n",
    "\n",
    "def cubes(L) : return [x**3 for x in L]\n",
    "cubes([1,2,3])\n",
    "\n",
    "def dict2list(dct, keylist): return [dct[x] for x in keylist]\n",
    "dct ={'a':'A', 'b':'B', 'c':'C'}\n",
    "keylist = ['b','c','a']\n",
    "dict2list(dct,keylist)\n",
    "\n",
    "def list2dict(L, keylist): return {x:y for x,y in zip(keylist,L)}\n",
    "\n",
    "L = ['A', 'B', 'C']\n",
    "keylist = ['a','b','c']\n",
    "list2dict(L,keylist)\n",
    "\n"
   ]
  },
  {
   "cell_type": "code",
   "execution_count": 58,
   "metadata": {},
   "outputs": [
    {
     "data": {
      "text/plain": [
       "{0: 'A', 1: 'B', 2: 'C'}"
      ]
     },
     "execution_count": 58,
     "metadata": {},
     "output_type": "execute_result"
    }
   ],
   "source": [
    "# Copyright 2013 Philip N. Klein\n",
    "def dict2list(dct, keylist): return [dct[x] for x in keylist]\n",
    "def list2dict(L, keylist):  return {x:y for x,y in zip(keylist,L)}\n",
    "\n",
    "L = ['A','B','C']\n",
    "def listrange2dict(L) : return list2dict(L, [0,1,2])\n",
    "\n",
    "# list2dict(L,list(range(len(L))))\n",
    "listrange2dict(L)"
   ]
  }
 ],
 "metadata": {
  "kernelspec": {
   "display_name": "Python 3",
   "language": "python",
   "name": "python3"
  },
  "language_info": {
   "codemirror_mode": {
    "name": "ipython",
    "version": 3
   },
   "file_extension": ".py",
   "mimetype": "text/x-python",
   "name": "python",
   "nbconvert_exporter": "python",
   "pygments_lexer": "ipython3",
   "version": "3.5.3"
  }
 },
 "nbformat": 4,
 "nbformat_minor": 2
}
