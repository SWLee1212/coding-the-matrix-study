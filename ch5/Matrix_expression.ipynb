{
 "cells": [
  {
   "cell_type": "code",
   "execution_count": null,
   "metadata": {
    "collapsed": true
   },
   "outputs": [],
   "source": [
    "def mk_zero_matrix(row, col):\n",
    "    return [[0 for c in range(col)] for r in range(row)]\n",
    "\n",
    "mk_zero_matrix(4,3)\n",
    "#쌍대성 표현 (duality)\n",
    "\n",
    "def mk_d_matrix(row, col):\n",
    "    return [[c-r for c in range(col)] for r in range(row)]\n",
    "\n",
    "mk_d_matrix(4,3)\n",
    "\n",
    "\n",
    "\n",
    "Matrix_a = {'a':Vec({'#','a','?'},{'@':1,'#':2,'?':3}),\n",
    "            'b':Vec({'#','a','?'},{'@':10,'#':20,'?':30})}\n",
    "Matrix_a\n",
    "\n",
    "from vec import"
   ]
  },
  {
   "cell_type": "code",
   "execution_count": 30,
   "metadata": {},
   "outputs": [
    {
     "data": {
      "text/plain": [
       "{'a': Vec({'?', '#', '@'},{'?': 3, '#': 2, '@': 1}),\n",
       " 'b': Vec({'?', '#', '@'},{'?': 30, '#': 20, '@': 10})}"
      ]
     },
     "execution_count": 30,
     "metadata": {},
     "output_type": "execute_result"
    }
   ],
   "source": [
    "def mk_zero_matrix(row, col):\n",
    "    return [[0 for c in range(col)] for r in range(row)]\n",
    "\n",
    "mk_zero_matrix(4,3)\n",
    "#쌍대성 표현 (duality)\n",
    "\n",
    "def mk_d_matrix(row, col):\n",
    "    return [[c-r for c in range(col)] for r in range(row)]\n",
    "\n",
    "mk_d_matrix(4,3)\n",
    "\n",
    "from vec import Vec\n",
    "\n",
    "Matrix_a = {'a':Vec({'#','a','?'},{'@':1,'#':2,'?':3}),\n",
    "            'b':Vec({'#','a','?'},{'@':10,'#':20,'?':30})}\n",
    "Matrix_a\n",
    "\n",
    "from vec import Vec\n",
    "from mat import Mat\n",
    "\n",
    "M = Mat(({'a','b'},{'@','#','?'}), \n",
    "        {('a','@'):1,('a','#'):2, ('a','?'):3, ('b','@'):10, ('b','#'):20, ('b','?'):30})\n",
    "\n",
    "\n",
    "Mat(({'a','b','c'},{'a','b','c'}), {('a','a') :1 , ('b','b'):1,('c','c'):1})\n",
    "D = {'a','b','c'}\n",
    "\n",
    "Mat((D,D),{(d,d):1 for d in D})\n",
    "\n",
    "def mat2rowdict(M):    \n",
    "    return {r:Vec(M.D[1], {c:M[r,c] for c in M.D[1]}) for r in M.D[0]}\n",
    "                \n",
    "mat2rowdict(M)    \n"
   ]
  },
  {
   "cell_type": "code",
   "execution_count": 40,
   "metadata": {},
   "outputs": [
    {
     "name": "stdout",
     "output_type": "stream",
     "text": [
      "\n",
      "        #  ?  @\n",
      "     ----------\n",
      " a  |   2  3  1\n",
      " b  |  20 30 10\n",
      "\n"
     ]
    }
   ],
   "source": [
    "import mat\n",
    "from mat import Mat\n",
    "import importlib\n",
    "importlib.reload(mat)\n",
    "from matutil import *\n",
    "\n",
    "\n",
    "M = Mat(({'a','b'},{'@','#','?'}), \n",
    "        {('a','@'):1,('a','#'):2, ('a','?'):3, ('b','@'):10, ('b','#'):20, ('b','?'):30})\n",
    "\n",
    "def mat2rowdict(M):    \n",
    "    return {r:Vec(M.D[1], { c:M[r,c] for c in M.D[1]}) for r in M.D[0] }\n",
    "                \n",
    "mat2rowdict(M)    \n",
    "\n",
    "def mat2coldict(M):    \n",
    "    return {c:Vec(M.D[0], { r:M[r,c] for r in M.D[0]}) for c in M.D[1] }\n",
    "\n",
    "mat2coldict(M)\n",
    "# [{c:M[r,c] for c in M.D[1]} for r in M.D[0]]\n",
    "print(M)"
   ]
  },
  {
   "cell_type": "code",
   "execution_count": null,
   "metadata": {
    "collapsed": true
   },
   "outputs": [],
   "source": [
    "A = listlist2mat([[10,20,30,40],[50,60,70,80]])\n",
    "print(A)"
   ]
  },
  {
   "cell_type": "code",
   "execution_count": null,
   "metadata": {
    "collapsed": true
   },
   "outputs": [],
   "source": [
    "# print(mat2vec(M))\n",
    "\n",
    "def mat2vec(M):\n",
    "    return Vec({(r,c) for c in M.D[1] for r in M.D[0]}, M.f)\n",
    "\n",
    "print(mat2vec(M))"
   ]
  },
  {
   "cell_type": "code",
   "execution_count": 58,
   "metadata": {},
   "outputs": [
    {
     "name": "stdout",
     "output_type": "stream",
     "text": [
      "\n",
      "        #  ?  @\n",
      "     ----------\n",
      " a  |   2  3  1\n",
      " b  |  20 30 10\n",
      "\n",
      "\n",
      "       a  b\n",
      "     ------\n",
      " #  |  2 20\n",
      " ?  |  3 30\n",
      " @  |  1 10\n",
      "\n"
     ]
    }
   ],
   "source": [
    "def transpose(M):\n",
    "#     return Mat( (M.D[1], M.D[0]), {(c,r):M[r, c] for r in M.D[0] for c in M.D[1]} )\n",
    "    return Mat( (M.D[1], M.D[0]), {(c,r):M[r, c] for [r,c] in M.f.keys()} )\n",
    "\n",
    "print(M)\n",
    "# { (c,r):M[r, c] for r in M.D[0] for c in M.D[1]}\n",
    "print(transpose(M))"
   ]
  }
 ],
 "metadata": {
  "kernelspec": {
   "display_name": "Python 3",
   "language": "python",
   "name": "python3"
  },
  "language_info": {
   "codemirror_mode": {
    "name": "ipython",
    "version": 3
   },
   "file_extension": ".py",
   "mimetype": "text/x-python",
   "name": "python",
   "nbconvert_exporter": "python",
   "pygments_lexer": "ipython3",
   "version": "3.5.3"
  }
 },
 "nbformat": 4,
 "nbformat_minor": 2
}
