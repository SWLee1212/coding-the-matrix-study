{
 "cells": [
  {
   "cell_type": "code",
   "execution_count": 15,
   "metadata": {},
   "outputs": [
    {
     "name": "stdout",
     "output_type": "stream",
     "text": [
      "\n",
      "        #  ?  @\n",
      "     ----------\n",
      " a  |   2  3  0\n",
      " b  |  20 30 10\n",
      " c  |  35  0  0\n",
      "\n",
      "\n",
      "        @  ?  #\n",
      "     ----------\n",
      " b  |  10 30 20\n",
      " a  |   0  3  2\n",
      " c  |   0  0 35\n",
      "\n"
     ]
    }
   ],
   "source": [
    "from vec import Vec\n",
    "from mat import Mat\n",
    "\n",
    "from matutil import *\n",
    "# import solver\n",
    "\n",
    "import imp\n",
    "magic = imp.get_magic()\n",
    "\n",
    "# import sys\n",
    "# print (sys.version)\n",
    "\n",
    "\n",
    "A = Mat(({'a','b','c'}, {'#','@','?'}), {('a','#'):2 , ('a','?'):3,\n",
    "                                        ('b','@'):10,('b','#'):20,('b','?'):30,\n",
    "                                        ('c','#'):35})\n",
    "\n",
    "print(A)\n",
    "A.pp(['b','a','c'],['@','?','#'])"
   ]
  }
 ],
 "metadata": {
  "kernelspec": {
   "display_name": "Python 3",
   "language": "python",
   "name": "python3"
  },
  "language_info": {
   "codemirror_mode": {
    "name": "ipython",
    "version": 3
   },
   "file_extension": ".py",
   "mimetype": "text/x-python",
   "name": "python",
   "nbconvert_exporter": "python",
   "pygments_lexer": "ipython3",
   "version": "3.5.3"
  }
 },
 "nbformat": 4,
 "nbformat_minor": 2
}
