{
 "cells": [
  {
   "cell_type": "code",
   "execution_count": 48,
   "metadata": {},
   "outputs": [
    {
     "data": {
      "text/plain": [
       "Mat(({0, 1, 2, 3, 4, 5, 6}, {0, 1}), {(0, 1): one, (0, 0): 0, (3, 0): 0, (6, 1): 0, (3, 1): 0, (6, 0): one, (2, 1): 0, (2, 0): 0, (5, 0): 0, (5, 1): 0, (1, 0): 0, (4, 1): 0, (1, 1): 0, (4, 0): 0})"
      ]
     },
     "execution_count": 48,
     "metadata": {},
     "output_type": "execute_result"
    }
   ],
   "source": [
    "from matutil import *\n",
    "from GF2 import One\n",
    "from vecutil import *\n",
    "from bitutil import *\n",
    "\n",
    "G_list = [[one,0,one,one],[one,one,0,one],[0,0,0,one],[one,one,one,0],[0,0,one,0],[0,one,0,0],[one,0,0,0]]\n",
    "G = listlist2mat(G_list)\n",
    "\n",
    "# print(G)\n",
    "p = Vec({0,1,2,3}, {0:one, 1:one, 2: 0,3:one})\n",
    "\n",
    "c = G*p\n",
    "# R_list = [[0,0,0,0,0,0,one],[0,0,0,0,0,one,0],[0,0,0,0,one,0,0],[0,0,one,0,0,0,0]]\n",
    "R = listlist2mat([[0,0,0,0,0,0,one],[0,0,0,0,0,one,0],[0,0,0,0,one,0,0],[0,0,one,0,0,0,0]])\n",
    "\n",
    "# print(p)\n",
    "# print(R*c)\n",
    "\n",
    "H = listlist2mat([[0,0,0,one,one,one,one],[0,one,one,0,0,one,one],[one,0,one,0,one,0,one]])\n",
    "\n",
    "# print(H*G)\n",
    "\n",
    "r_c = list2vec([one, 0,one,one,0,one,one])\n",
    "\n",
    "syn = H*r_c\n",
    "\n",
    "\n",
    "def find_error(syn):\n",
    "    temp = []\n",
    "    for k in mat2coldict(H).keys():\n",
    "        if syn == mat2coldict(H)[k]:            \n",
    "            temp.append(one)\n",
    "        else: \n",
    "            temp.append(0)\n",
    "    return list2vec(temp)\n",
    "\n",
    "def find_error_matrix(syn_matrix):    \n",
    "    return coldict2mat({index: find_error(mat2coldict(syn_matrix)[index]) \\\n",
    "            for index in mat2coldict(syn_matrix).keys()})\n",
    "\n",
    "syn_matrix = listlist2mat([[one, one, one], [0, 0, one]]).transpose()\n",
    "find_error_matrix(syn_matrix)\n"
   ]
  },
  {
   "cell_type": "code",
   "execution_count": 77,
   "metadata": {},
   "outputs": [
    {
     "name": "stdout",
     "output_type": "stream",
     "text": [
      "N of charactor :  114\n",
      "N of Bits :  912\n",
      "N of Codewords Bits :  1596\n",
      "==========Use Hamming code result==========\n",
      "n of euqal bit :  80\n",
      "n of not euqal bit :  34\n",
      "==========Do not Hamming code result==========\n",
      "n of euqal bit :  49\n",
      "n of not euqal bit :  65\n"
     ]
    }
   ],
   "source": [
    "s = ''.join([\"I'm trying to to free your mind, Neo. But I can only show you the door. You're the one that has to walk through it\"])\n",
    "# s = ''.join([\"I'm trying to to free your mind,\"])\n",
    "p = bits2mat(str2bits(s))\n",
    "c = G*p\n",
    "\n",
    "e = noise(c,0.04)\n",
    "\n",
    "CTILDE = c + e\n",
    "\n",
    "syn_matrix = H*CTILDE \n",
    "CTILDE_rx = CTILDE + find_error_matrix(syn_matrix)\n",
    "c_rx = R*CTILDE_rx\n",
    "s_rx = bits2str(mat2bits(c_rx))\n",
    "\n",
    "c_rx1 = R*CTILDE\n",
    "s_rx1 = bits2str(mat2bits(c_rx1))\n",
    "\n",
    "print('N of charactor : ',len(s))\n",
    "print('N of Bits : ', len(str2bits(s)))\n",
    "print('N of Codewords Bits : ', len(c.f.values()))\n",
    "\n",
    "\n",
    "nbits_n_equal = 0\n",
    "nbtis_equal = 0\n",
    "\n",
    "for x,y in zip(s,s_rx):\n",
    "    if x != y : \n",
    "        nbits_n_equal += 1\n",
    "    else: \n",
    "        nbtis_equal += 1\n",
    "        \n",
    "print(\"==========Use Hamming code result==========\")\n",
    "print(\"n of euqal bit : \", nbtis_equal)        \n",
    "print(\"n of not euqal bit : \", nbits_n_equal) \n",
    "\n",
    "nbits_n_equal = 0\n",
    "nbtis_equal = 0\n",
    "\n",
    "for x,y in zip(s,s_rx1):\n",
    "    if x != y : \n",
    "        nbits_n_equal += 1\n",
    "\n",
    "    else: \n",
    "        nbtis_equal += 1\n",
    "\n",
    "        \n",
    "print(\"==========Do not Hamming code result==========\")\n",
    "print(\"n of euqal bit : \", nbtis_equal)        \n",
    "print(\"n of not euqal bit : \", nbits_n_equal)  "
   ]
  },
  {
   "cell_type": "code",
   "execution_count": null,
   "metadata": {
    "collapsed": true
   },
   "outputs": [],
   "source": []
  }
 ],
 "metadata": {
  "kernelspec": {
   "display_name": "Python 3",
   "language": "python",
   "name": "python3"
  },
  "language_info": {
   "codemirror_mode": {
    "name": "ipython",
    "version": 3
   },
   "file_extension": ".py",
   "mimetype": "text/x-python",
   "name": "python",
   "nbconvert_exporter": "python",
   "pygments_lexer": "ipython3",
   "version": "3.5.3"
  }
 },
 "nbformat": 4,
 "nbformat_minor": 2
}
