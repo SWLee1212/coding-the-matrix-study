{
 "cells": [
  {
   "cell_type": "code",
   "execution_count": 4,
   "metadata": {},
   "outputs": [
    {
     "data": {
      "text/plain": [
       "True"
      ]
     },
     "execution_count": 4,
     "metadata": {},
     "output_type": "execute_result"
    }
   ],
   "source": [
    "import mat\n",
    "from mat import Mat\n",
    "import importlib\n",
    "importlib.reload(mat)\n",
    "\n",
    "M = Mat(({1,3,5}, {'a'}), {(1,'a'):4, (5,'a'): 2})\n",
    "\n",
    "M[1,'a']\n",
    "M[3,'a']\n",
    "\n",
    "# Mat(({'a','b'}, {'A','B'}), {('a','B'):0}) == Mat(({'a','b'}, {'A','B'}), {('b','B'):0})\n",
    "\n",
    "A = Mat(({'a','b'}, {'A','B'}), {('a','B'):2, ('b','A'):1})\n",
    "B = Mat(({'a','b'}, {'A','B'}), {('a','B'):2, ('b','A'):1, ('b','B'):0})\n",
    "C = Mat(({'a','b'}, {'A','B'}), {('a','B'):2, ('b','A'):1, ('b','B'):5})\n",
    "\n",
    "# print(A == B)\n",
    "# print(B == A)\n",
    "# print(C == A)\n",
    "# print(A == Mat(({'a','b'}, {'A','B'}), {('a','B'):2, ('b','A'):1}))\n",
    "\n",
    "M = Mat(({'a','b','c'}, {5}), {('a', 5):3, ('b', 5):7})\n",
    "M['b', 5] = 9\n",
    "M['c', 5] = 13\n",
    "\n",
    "M == Mat(({'a','b','c'}, {5}), {('a', 5):3, ('b', 5):9, ('c',5):13})\n",
    "\n",
    "N = Mat(({ ((),), 7 }, {True, False}), {})\n",
    "N[(7, False)] = 1\n",
    "N[(((),), True)] = 2\n",
    "N == Mat(({((),), 7}, {True, False}), {(7,False):1, (((),), True):2})\n",
    "\n",
    "\n",
    "A1 = Mat(({3, 6}, {'x','y'}), {(3,'x'):-2, (6,'y'):3})\n",
    "A2 = Mat(({3, 6}, {'x','y'}), {(3,'y'):4})\n",
    "B = Mat(({3, 6}, {'x','y'}), {(3,'x'):-2, (3,'y'):4, (6,'y'):3})\n",
    "A1 + A2 == B\n",
    "\n",
    "# {(a,b) : A1[a,b]+A2[a,b] for (a,b) in A1.f.keys() | A2.f.keys()}\n",
    "\n",
    "A2 + A1 == B\n",
    "# True\n",
    "A1 == Mat(({3, 6}, {'x','y'}), {(3,'x'):-2, (6,'y'):3})\n",
    "# True\n",
    "zero = Mat(({3,6}, {'x','y'}), {})\n",
    "B + zero == B\n",
    "\n",
    "C1 = Mat(({1,3}, {2,4}), {(1,2):2, (3,4):3})\n",
    "C2 = Mat(({1,3}, {2,4}), {(1,4):1, (1,2):4})\n",
    "D = Mat(({1,3}, {2,4}), {(1,2):6, (1,4):1, (3,4):3})\n",
    "C1 + C2 == D"
   ]
  },
  {
   "cell_type": "code",
   "execution_count": 8,
   "metadata": {},
   "outputs": [
    {
     "data": {
      "text/plain": [
       "True"
      ]
     },
     "execution_count": 8,
     "metadata": {},
     "output_type": "execute_result"
    }
   ],
   "source": [
    "M = Mat(({1,3,5}, {2,4}), {(1,2):4, (5,4):2, (3,4):3})\n",
    "0*M == Mat(({1, 3, 5}, {2, 4}), {})\n",
    "\n",
    "1*M == M\n",
    "0.25*M == Mat(({1,3,5}, {2,4}), {(1,2):1.0, (5,4):0.5, (3,4):0.75})\n",
    "\n"
   ]
  },
  {
   "cell_type": "code",
   "execution_count": 9,
   "metadata": {},
   "outputs": [
    {
     "data": {
      "text/plain": [
       "True"
      ]
     },
     "execution_count": 9,
     "metadata": {},
     "output_type": "execute_result"
    }
   ],
   "source": [
    "M = Mat(({0,1}, {0,1}), {(0,1):3, (1,0):2, (1,1):4})\n",
    "M.transpose() == Mat(({0,1}, {0,1}), {(0,1):2, (1,0):3, (1,1):4})\n",
    "\n",
    "M = Mat(({'x','y','z'}, {2,4}), {('x',4):3, ('x',2):2, ('y',4):4, ('z',4):5})\n",
    "Mt = Mat(({2,4}, {'x','y','z'}), {(4,'x'):3, (2,'x'):2, (4,'y'):4, (4,'z'):5})\n",
    "M.transpose() == Mt"
   ]
  },
  {
   "cell_type": "code",
   "execution_count": 103,
   "metadata": {},
   "outputs": [
    {
     "data": {
      "text/plain": [
       "{'x': Vec({0, 1, 2},{0: 0, 1: 3, 2: -5}),\n",
       " 'y': Vec({0, 1, 2},{0: -5, 1: -2, 2: 0})}"
      ]
     },
     "execution_count": 103,
     "metadata": {},
     "output_type": "execute_result"
    }
   ],
   "source": [
    "import vec\n",
    "import mat\n",
    "from mat import Mat\n",
    "from vec import Vec\n",
    "import importlib\n",
    "from matutil import *\n",
    "importlib.reload(mat)\n",
    "importlib.reload(vec)\n",
    "\n",
    "\n",
    "        \n",
    "v = Vec({1, 2, 3}, {1: 1, 2: 8})\n",
    "M = Mat(({1, 2, 3}, {'a', 'b', 'c'}), {(1, 'b'): 2, (2, 'a'):-1, (3, 'a'): 1, (3, 'c'): 7})\n",
    "v*M == Vec({'a', 'b', 'c'},{'a': -8, 'b': 2, 'c': 0})\n",
    "\n",
    "v2 = Vec({'a','b'}, {})\n",
    "M2 = Mat(({'a','b'}, {0, 2, 4, 6, 7}), {})\n",
    "v2*M2 == Vec({0, 2, 4, 6, 7},{})\n",
    "\n",
    "v3 = Vec({'a','b'},{'a':1,'b':1})\n",
    "M3 = Mat(({'a', 'b'}, {0, 1}), {('a', 1): 1, ('b', 1): 1, ('a', 0): 1, ('b', 0): 1})\n",
    "v3*M3 == Vec({0, 1},{0: 2, 1: 2})\n",
    "\n",
    "\n",
    "N1 = Mat(({1, 3, 5, 7}, {'a', 'b'}), {(1, 'a'): -1, (1, 'b'): 2, (3, 'a'): 1, (3, 'b'):4, (7, 'a'): 3, (5, 'b'):-1})\n",
    "u1 = Vec({'a', 'b'}, {'a': 1, 'b': 2})\n",
    "N1*u1 == Vec({1, 3, 5, 7},{1: 3, 3: 9, 5: -2, 7: 3})\n",
    "\n",
    "N2 = Mat(({('a', 'b'), ('c', 'd')}, {1, 2, 3, 5, 8}), {})\n",
    "u2 = Vec({1, 2, 3, 5, 8}, {})\n",
    "N2*u2 == Vec({('a', 'b'), ('c', 'd')},{})\n",
    "\n",
    "M3 = Mat(({0,1},{'a','b'}),{(0,'a'):1, (0,'b'):1, (1,'a'):1, (1,'b'):1})\n",
    "v3 = Vec({'a','b'},{'a':1,'b':1})\n",
    "M3*v3 == Vec({0, 1},{0: 2, 1: 2})\n",
    "\n",
    "\n",
    "A = Mat(({0,1,2}, {0,1,2}), {(1,1):4, (0,0):0, (1,2):1, (1,0):5, (0,1):3, (0,2):2})\n",
    "B = Mat(({0,1,2}, {0,1,2}), {(1,0):5, (2,1):3, (1,1):2, (2,0):0, (0,0):1, (0,1):4})\n",
    "\n",
    "C = Mat(({0,1,2}, {'a','b'}), {(0,'a'):4, (0,'b'):-3, (1,'a'):1, (2,'a'):1, (2,'b'):-2})\n",
    "D = Mat(({'a','b'}, {'x','y'}), {('a','x'):3, ('a','y'):-2, ('b','x'):4, ('b','y'):-1})\n",
    "# C*D == Mat(({0,1,2}, {'x','y'}), {(0,'y'):-5, (1,'x'):3, (1,'y'):-2, (2,'x'):-5})\n",
    "\n",
    "({B_col:C * mat2coldict(D)[B_col] for B_col in mat2coldict(D)})\n",
    "#     print(C * mat2coldict(D)[B_col])\n",
    "    \n",
    "#     >>> A*B == Mat(({0,1,2}, {0,1,2}), {(0,0):15, (0,1):12, (1,0):25, (1,1):31})"
   ]
  }
 ],
 "metadata": {
  "kernelspec": {
   "display_name": "Python 3",
   "language": "python",
   "name": "python3"
  },
  "language_info": {
   "codemirror_mode": {
    "name": "ipython",
    "version": 3
   },
   "file_extension": ".py",
   "mimetype": "text/x-python",
   "name": "python",
   "nbconvert_exporter": "python",
   "pygments_lexer": "ipython3",
   "version": "3.5.3"
  }
 },
 "nbformat": 4,
 "nbformat_minor": 2
}
