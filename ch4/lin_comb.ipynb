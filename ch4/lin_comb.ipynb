{
 "cells": [
  {
   "cell_type": "code",
   "execution_count": 13,
   "metadata": {},
   "outputs": [
    {
     "name": "stdout",
     "output_type": "stream",
     "text": [
      "\n",
      " a b\n",
      "----\n",
      " 1 2 \n",
      " a b\n",
      "----\n",
      " 1 2\n"
     ]
    },
    {
     "data": {
      "text/plain": [
       "5"
      ]
     },
     "execution_count": 13,
     "metadata": {},
     "output_type": "execute_result"
    }
   ],
   "source": [
    "from vec import Vec\n",
    "\n",
    "def lin_comb(vlist, clist):\n",
    "        return sum([ v * c  for (v, c) in zip(vlist, clist)])\n",
    "    \n",
    "u1 = Vec({'a','b'}, {'a':1, 'b':2})\n",
    "u2 = Vec({'a','b'}, {'b':2, 'a':1})\n",
    "\n",
    "u1*u2\n"
   ]
  }
 ],
 "metadata": {
  "kernelspec": {
   "display_name": "Python 3",
   "language": "python",
   "name": "python3"
  },
  "language_info": {
   "codemirror_mode": {
    "name": "ipython",
    "version": 3
   },
   "file_extension": ".py",
   "mimetype": "text/x-python",
   "name": "python",
   "nbconvert_exporter": "python",
   "pygments_lexer": "ipython3",
   "version": "3.5.3"
  }
 },
 "nbformat": 4,
 "nbformat_minor": 2
}
