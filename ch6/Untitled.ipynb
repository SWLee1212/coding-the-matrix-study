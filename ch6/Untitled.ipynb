{
 "cells": [
  {
   "cell_type": "code",
   "execution_count": 2,
   "metadata": {},
   "outputs": [
    {
     "name": "stdout",
     "output_type": "stream",
     "text": [
      "**********************************************************************\n",
      "File \"C:\\Users\\user\\mycode\\mypython\\coding_the_matrix\\ch6\\vec.py\", line 37, in vec.py\n",
      "Failed example:\n",
      "    v['a']\n",
      "Expected:\n",
      "    0\n",
      "    \"\"\"\n",
      "Got:\n",
      "    0\n",
      "**********************************************************************\n",
      "File \"C:\\Users\\user\\mycode\\mypython\\coding_the_matrix\\ch6\\vec.py\", line 74, in vec.py\n",
      "Failed example:\n",
      "    Vec({'a','b'},{'a':1}) == Vec({'a','b'},{'a':2})\n",
      "Expected:\n",
      "    False\n",
      "    \"\"\"\n",
      "Got:\n",
      "    False\n",
      "**********************************************************************\n",
      "File \"C:\\Users\\user\\mycode\\mypython\\coding_the_matrix\\ch6\\vec.py\", line 121, in vec.py\n",
      "Failed example:\n",
      "    b + Vec({'a','e','i','o','u'}, {}) == b\n",
      "Expected:\n",
      "    True\n",
      "    \"\"\"\n",
      "Got:\n",
      "    True\n",
      "**********************************************************************\n",
      "File \"C:\\Users\\user\\mycode\\mypython\\coding_the_matrix\\ch6\\vec.py\", line 156, in vec.py\n",
      "Failed example:\n",
      "    v1 * v2\n",
      "Expected:\n",
      "    12\n",
      "    \"\"\"\n",
      "Got:\n",
      "    12\n",
      "**********************************************************************\n",
      "File \"C:\\Users\\user\\mycode\\mypython\\coding_the_matrix\\ch6\\vec.py\", line 179, in vec.py\n",
      "Failed example:\n",
      "    u == Vec({'x','y','z','w'},{'x':1,'y':2,'z':3,'w':4})\n",
      "Expected:\n",
      "    True\n",
      "    \"\"\"\n",
      "Got:\n",
      "    True\n",
      "**********************************************************************\n",
      "File \"C:\\Users\\user\\mycode\\mypython\\coding_the_matrix\\ch6\\vec.py\", line 197, in vec.py\n",
      "Failed example:\n",
      "    -Vec({'a','b','c'}, {'a':1}) == Vec({'a','b','c'}, {'a':-1})\n",
      "Expected:\n",
      "    True\n",
      "    \"\"\"\n",
      "Got:\n",
      "    True\n",
      "**********************************************************************\n",
      "1 items had failures:\n",
      "   6 of  56 in vec.py\n",
      "***Test Failed*** 6 failures.\n"
     ]
    },
    {
     "data": {
      "text/plain": [
       "TestResults(failed=6, attempted=56)"
      ]
     },
     "execution_count": 2,
     "metadata": {},
     "output_type": "execute_result"
    }
   ],
   "source": [
    "from vec import *\n",
    "import doctest\n",
    "# v = Vec({'a','b','c', 'd'},{'a':2,'c':1,'d':3})\n",
    "doctest.testfile(\"C:\\\\Users\\\\user\\\\mycode\\\\mypython\\\\coding_the_matrix\\\\ch6\\\\vec.py\")\n"
   ]
  }
 ],
 "metadata": {
  "kernelspec": {
   "display_name": "Python 3",
   "language": "python",
   "name": "python3"
  },
  "language_info": {
   "codemirror_mode": {
    "name": "ipython",
    "version": 3
   },
   "file_extension": ".py",
   "mimetype": "text/x-python",
   "name": "python",
   "nbconvert_exporter": "python",
   "pygments_lexer": "ipython3",
   "version": "3.5.3"
  }
 },
 "nbformat": 4,
 "nbformat_minor": 2
}
