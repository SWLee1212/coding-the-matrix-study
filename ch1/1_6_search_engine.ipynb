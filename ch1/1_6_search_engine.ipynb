{
 "cells": [
  {
   "cell_type": "code",
   "execution_count": null,
   "metadata": {},
   "outputs": [],
   "source": [
    "\n",
    "\n",
    "\n"
   ]
  },
  {
   "cell_type": "code",
   "execution_count": 102,
   "metadata": {},
   "outputs": [
    {
     "data": {
      "text/plain": [
       "['', 'b', 'cc', 'ddd', 'eeee']"
      ]
     },
     "execution_count": 102,
     "metadata": {},
     "output_type": "execute_result"
    }
   ],
   "source": [
    "list(enumerate(['A','B','C']))\n",
    "list(range(10,70,10))\n",
    "[i*x for (i,x) in enumerate(list(range(10,70,10)))]\n",
    "[i*x for (i,x) in enumerate(['a','b','c','d','e'])]"
   ]
  },
  {
   "cell_type": "code",
   "execution_count": 154,
   "metadata": {},
   "outputs": [
    {
     "ename": "SyntaxError",
     "evalue": "invalid syntax (<ipython-input-154-580723477030>, line 15)",
     "output_type": "error",
     "traceback": [
      "\u001b[1;36m  File \u001b[1;32m\"<ipython-input-154-580723477030>\"\u001b[1;36m, line \u001b[1;32m15\u001b[0m\n\u001b[1;33m    {word : set(txt for txt, wrds in words.items() if word in wrds.split())) for word in list2}\u001b[0m\n\u001b[1;37m                                                                           ^\u001b[0m\n\u001b[1;31mSyntaxError\u001b[0m\u001b[1;31m:\u001b[0m invalid syntax\n"
     ]
    }
   ],
   "source": [
    "f=open('stories_small.txt')\n",
    "stories = list(f)\n",
    "\n",
    "list_of_words = [] \n",
    "list2 = []\n",
    "\n",
    "for key in stories:\n",
    "    list_of_words.append(key)\n",
    "    words = {k:v for (k,v) in enumerate(stories)}\n",
    "t = list(words.values())  \n",
    "\n",
    "for e in t:\n",
    "    list2.extend(e.split())\n",
    "\n",
    "{word : set(txt for txt, wrds in words.items() if word in wrds.split())) for word in list2}    "
   ]
  }
 ],
 "metadata": {
  "kernelspec": {
   "display_name": "Python 3",
   "language": "python",
   "name": "python3"
  },
  "language_info": {
   "codemirror_mode": {
    "name": "ipython",
    "version": 3
   },
   "file_extension": ".py",
   "mimetype": "text/x-python",
   "name": "python",
   "nbconvert_exporter": "python",
   "pygments_lexer": "ipython3",
   "version": "3.5.3"
  }
 },
 "nbformat": 4,
 "nbformat_minor": 2
}
