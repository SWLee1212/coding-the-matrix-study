{
 "cells": [
  {
   "cell_type": "code",
   "execution_count": 1,
   "metadata": {
    "collapsed": true
   },
   "outputs": [],
   "source": [
    "#draw vector\n",
    "from plotting import plot\n",
    "L = [ [2,2], [3,2], [1.75,1], [2,1], [2.25,1], [2.25,1],[2.5,1],[2.75,1], [3,1], [3.25,1]  ]\n",
    "# plot(L,4)\n",
    "\n",
    "def add2(v,w):\n",
    "    return [v[0]+w[0], v[1]+w[1]]\n",
    "\n",
    "plot([add2(v, [1,2]) for v in L],5)\n",
    "\n",
    "\n"
   ]
  },
  {
   "cell_type": "code",
   "execution_count": 14,
   "metadata": {},
   "outputs": [],
   "source": [
    "# Task 3.6.9\n",
    "def segment(pt1, pt2):\n",
    "    step = 100\n",
    "    return [[alpha/step*pt1[0]+(1-alpha/step)*pt2[0], alpha/step*pt1[1]+(1-alpha/step)*pt2[1]] for alpha in range(100)] \n",
    "\n",
    "plot(segment([3.5, 3], [0.5,1]))"
   ]
  },
  {
   "cell_type": "code",
   "execution_count": 30,
   "metadata": {},
   "outputs": [
    {
     "name": "stdout",
     "output_type": "stream",
     "text": [
      "1\n",
      "{'B': 2, 'A': 1}\n",
      "1 2 0\n"
     ]
    }
   ],
   "source": [
    "# 벡터는 정의역 D에서 F로 함수 집합이다.\n",
    "# D -> F로 함수라면\n",
    "class Vec :\n",
    "    def __init__(self, labels, function):\n",
    "        self.D = labels\n",
    "        self.f = function\n",
    "\n",
    "    \n",
    "v = Vec({'A','B','C'}, {'A':1})\n",
    "\n",
    "for d in v.D:\n",
    "    if d in v.f:\n",
    "        print(v.f[d])\n",
    "        \n",
    "def setitem(v,d,val):v.f[d] = val\n",
    "setitem(v,'B',2)   \n",
    "\n",
    "print(v.f)\n",
    "# 스파스 벡터는 대부분 원소 값이 0임, 특정 값만 대응 되는 함수 값을 가짐\n",
    "# 스파스 표현을 하면\n",
    "def getitem(v,d): return v.f[d] if d in v.f else 0\n",
    "print(getitem(v,'A'), getitem(v,'B'), getitem(v,'C'))\n"
   ]
  },
  {
   "cell_type": "code",
   "execution_count": 43,
   "metadata": {},
   "outputs": [
    {
     "data": {
      "text/plain": [
       "{'A': 2, 'B': 4}"
      ]
     },
     "execution_count": 43,
     "metadata": {},
     "output_type": "execute_result"
    }
   ],
   "source": [
    "def scalar_mul(v, alpha):\n",
    "    \n",
    "    return Vec(v.D, {d:alpha*value for d,value in v.f.items()}) \n",
    "\n",
    "scalar_mul(v,2).f"
   ]
  },
  {
   "cell_type": "code",
   "execution_count": 52,
   "metadata": {},
   "outputs": [
    {
     "name": "stdout",
     "output_type": "stream",
     "text": [
      "{'A': 5, 'C': 10} {'B': 2, 'A': 1}\n"
     ]
    },
    {
     "data": {
      "text/plain": [
       "{'A': -1, 'B': -2}"
      ]
     },
     "execution_count": 52,
     "metadata": {},
     "output_type": "execute_result"
    }
   ],
   "source": [
    "def add(u,v):\n",
    "    \n",
    "    return Vec(v.D, {d: getitem(u,d)+getitem(v,d) for d in u.D})\n",
    "\n",
    "u = Vec(v.D, {'A':5, 'C':10})\n",
    "print(u.f, v.f)\n",
    "add(u,v).f\n",
    "\n",
    "def neg1(v):\n",
    "    return Vec(v.D, {d: -1*getitem(v,d) for d in v.f})\n",
    "\n",
    "neg1(v).f\n",
    "def neg2(v):\n",
    "    return Vec(v.D, {key: -value   for key,value in v.f.items()})\n",
    "\n",
    "neg2(v).f\n"
   ]
  }
 ],
 "metadata": {
  "kernelspec": {
   "display_name": "Python 3",
   "language": "python",
   "name": "python3"
  },
  "language_info": {
   "codemirror_mode": {
    "name": "ipython",
    "version": 3
   },
   "file_extension": ".py",
   "mimetype": "text/x-python",
   "name": "python",
   "nbconvert_exporter": "python",
   "pygments_lexer": "ipython3",
   "version": "3.5.4"
  }
 },
 "nbformat": 4,
 "nbformat_minor": 2
}
