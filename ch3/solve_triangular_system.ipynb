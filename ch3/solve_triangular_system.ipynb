{
 "cells": [
  {
   "cell_type": "code",
   "execution_count": 99,
   "metadata": {},
   "outputs": [
    {
     "name": "stdout",
     "output_type": "stream",
     "text": [
      "\n",
      " 0 1 2\n",
      "------\n",
      " 0 0 0 False False\n",
      "None\n",
      "\n",
      " 0 1 2\n",
      "------\n",
      " 0 0 0 False False\n",
      "None\n",
      "\n",
      " 0 1 2\n",
      "------\n",
      " 0 0 0 False False\n",
      "None\n"
     ]
    },
    {
     "data": {
      "text/plain": [
       "Vec({0, 1, 2},{})"
      ]
     },
     "execution_count": 99,
     "metadata": {},
     "output_type": "execute_result"
    }
   ],
   "source": [
    "from vec import Vec\n",
    "import vec\n",
    "import importlib\n",
    "\n",
    "importlib.reload(vec)\n",
    "from vecutil import list2vec\n",
    "from vecutil import zero_vec\n",
    "\n",
    "\n",
    "def triangular_solve_n(rowlist,b):\n",
    "    D = rowlist[0].D\n",
    "    n = len(D)\n",
    "    assert D == set(range(n))\n",
    "    x = zero_vec(D)\n",
    "    \n",
    "    for i in reversed(range(n)):\n",
    "#         print(b[i], rowlist[i] * x, rowlist[i][i])        \n",
    "#         print(rowlist[i])\n",
    "#         print(x)\n",
    "        print(rowlist[i] * x)\n",
    "        \n",
    "    return x\n",
    "    \n",
    "u1 = [2, 3, 4]\n",
    "u2 = [0, 1, 2]\n",
    "u3 = [0, 0, 5]\n",
    "b = [10, 3, 5]\n",
    "rowlist = [list2vec(u1), list2vec(u2), list2vec(u3)]\n",
    "\n",
    "triangular_solve_n(rowlist,b)"
   ]
  }
 ],
 "metadata": {
  "kernelspec": {
   "display_name": "Python 3",
   "language": "python",
   "name": "python3"
  },
  "language_info": {
   "codemirror_mode": {
    "name": "ipython",
    "version": 3
   },
   "file_extension": ".py",
   "mimetype": "text/x-python",
   "name": "python",
   "nbconvert_exporter": "python",
   "pygments_lexer": "ipython3",
   "version": "3.5.3"
  }
 },
 "nbformat": 4,
 "nbformat_minor": 2
}
