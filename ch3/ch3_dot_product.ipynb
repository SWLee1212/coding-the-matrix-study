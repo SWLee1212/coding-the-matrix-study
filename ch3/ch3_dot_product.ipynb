{
 "cells": [
  {
   "cell_type": "code",
   "execution_count": 1,
   "metadata": {},
   "outputs": [
    {
     "data": {
      "text/plain": [
       "6"
      ]
     },
     "execution_count": 1,
     "metadata": {},
     "output_type": "execute_result"
    }
   ],
   "source": [
    "def list_dot(u,v):\n",
    "    return sum([ a*b for (a,b) in zip(u,v)])\n",
    "\n",
    "u = [1,2,3]\n",
    "v = [1,1,1]\n",
    "\n",
    "list_dot(u,v)"
   ]
  },
  {
   "cell_type": "code",
   "execution_count": 11,
   "metadata": {},
   "outputs": [
    {
     "data": {
      "text/plain": [
       "[14, 20, 26, 32]"
      ]
     },
     "execution_count": 11,
     "metadata": {},
     "output_type": "execute_result"
    }
   ],
   "source": [
    "u = [1,-1,1,1, 1,-1,1,1,1]\n",
    "v = [1,-1,1,1,-1, 1]\n",
    "\n",
    "def cal_similarity(u,v):    \n",
    "    return [ list_dot(u[index:index+len(v)],v) for index in range(len(u)-len(v)+1)] \n",
    "\n",
    "cal_similarity(u,v)\n",
    "\n",
    "a = [1,2,3,4,5,6]\n",
    "b = [1,2,3]\n",
    "\n",
    "cal_similarity(a,b)"
   ]
  }
 ],
 "metadata": {
  "kernelspec": {
   "display_name": "Python 3",
   "language": "python",
   "name": "python3"
  },
  "language_info": {
   "codemirror_mode": {
    "name": "ipython",
    "version": 3
   },
   "file_extension": ".py",
   "mimetype": "text/x-python",
   "name": "python",
   "nbconvert_exporter": "python",
   "pygments_lexer": "ipython3",
   "version": "3.5.3"
  }
 },
 "nbformat": 4,
 "nbformat_minor": 2
}
