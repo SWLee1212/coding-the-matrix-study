{
 "cells": [
  {
   "cell_type": "code",
   "execution_count": 271,
   "metadata": {},
   "outputs": [
    {
     "data": {
      "text/plain": [
       "<module 'vec' from 'C:\\\\Users\\\\user\\\\mycode\\\\mypython\\\\coding_the_matrix\\\\ch3\\\\vec.py'>"
      ]
     },
     "execution_count": 271,
     "metadata": {},
     "output_type": "execute_result"
    }
   ],
   "source": [
    "from vec import Vec\n",
    "import importlib\n",
    "importlib.reload(vec)\n",
    "\n",
    "# a = Vec({'a','e','i','o','u'}, {'a':0,'e':1,'i':2})\n",
    "# b = Vec({'a','e','i','o','u'}, {'o':4,'u':7})\n",
    "# c = Vec({'a','e','i','o','u'}, {'a':0,'e':1,'i':2,'o':4,'u':7})\n",
    "# a + b == c\n",
    "\n"
   ]
  },
  {
   "cell_type": "code",
   "execution_count": 229,
   "metadata": {},
   "outputs": [
    {
     "data": {
      "text/plain": [
       "True"
      ]
     },
     "execution_count": 229,
     "metadata": {},
     "output_type": "execute_result"
    }
   ],
   "source": [
    "a == Vec({'a','e','i','o','u'}, {'a':0,'e':1,'i':2})"
   ]
  },
  {
   "cell_type": "code",
   "execution_count": 230,
   "metadata": {},
   "outputs": [
    {
     "data": {
      "text/plain": [
       "True"
      ]
     },
     "execution_count": 230,
     "metadata": {},
     "output_type": "execute_result"
    }
   ],
   "source": [
    "b == Vec({'a','e','i','o','u'}, {'o':4,'u':7})"
   ]
  },
  {
   "cell_type": "code",
   "execution_count": 108,
   "metadata": {},
   "outputs": [
    {
     "data": {
      "text/plain": [
       "True"
      ]
     },
     "execution_count": 108,
     "metadata": {},
     "output_type": "execute_result"
    }
   ],
   "source": [
    "d = Vec({'x','y','z'}, {'x':2,'y':1})\n",
    "e = Vec({'x','y','z'}, {'z':4,'y':-1})\n",
    "f = Vec({'x','y','z'}, {'x':2,'y':0,'z':4})\n",
    "d + e == f"
   ]
  },
  {
   "cell_type": "code",
   "execution_count": 190,
   "metadata": {},
   "outputs": [
    {
     "data": {
      "text/plain": [
       "True"
      ]
     },
     "execution_count": 190,
     "metadata": {},
     "output_type": "execute_result"
    }
   ],
   "source": [
    "d == Vec({'x','y','z'}, {'x':2,'y':1})\n",
    "e == Vec({'x','y','z'}, {'z':4,'y':-1})\n",
    "b + Vec({'a','e','i','o','u'}, {}) == b"
   ]
  },
  {
   "cell_type": "code",
   "execution_count": 459,
   "metadata": {},
   "outputs": [],
   "source": [
    "from vec import Vec\n",
    "import importlib\n",
    "importlib.reload(vec)\n",
    "\n",
    "\n",
    "u = Vec({'a','b'}, {'a':1, 'b':2})\n",
    "v = Vec({'a','b'}, {'b':2, 'a':1})\n",
    "\n",
    "u*v\n",
    "\n",
    "v1 = Vec({1, 2}, {1 : 3, 2 : 6})\n",
    "v2 = Vec({1, 2}, {1 : 2, 2 : 1})\n",
    "v1 * v2\n",
    "\n",
    "v1 = Vec({'p','q','r','s'}, {'p':2,'s':3,'q':-1,'r':0})\n",
    "v2 = Vec({'p','q','r','s'}, {'p':-2,'r':5})\n",
    "v1*v2\n",
    "\n",
    "w1 = Vec({'a','b','c'}, {'a':2,'b':3,'c':4})\n",
    "w2 = Vec({'a','b','c'}, {'a':12,'b':8,'c':6})\n",
    "w1*w2\n",
    "\n",
    "# print(isinstance(w1, Vec), isinstance(w2, Vec) )\n",
    "    "
   ]
  },
  {
   "cell_type": "code",
   "execution_count": 297,
   "metadata": {},
   "outputs": [
    {
     "data": {
      "text/plain": [
       "True"
      ]
     },
     "execution_count": 297,
     "metadata": {},
     "output_type": "execute_result"
    }
   ],
   "source": [
    "from vec import Vec\n",
    "import importlib\n",
    "importlib.reload(vec)\n",
    "\n",
    "zero = Vec({'x','y','z','w'}, {})\n",
    "v = Vec({'x','y','z','w'},{'x':1,'y':2,'z':3,'w':4})\n",
    "alpha = 0\n",
    "alpha * v == zero"
   ]
  },
  {
   "cell_type": "code",
   "execution_count": 300,
   "metadata": {},
   "outputs": [
    {
     "data": {
      "text/plain": [
       "True"
      ]
     },
     "execution_count": 300,
     "metadata": {},
     "output_type": "execute_result"
    }
   ],
   "source": [
    "u = Vec({1,3,5,7},{1:1,3:2,5:3,7:4})\n",
    "-u\n",
    "u == Vec({1,3,5,7},{1:1,3:2,5:3,7:4})\n",
    "-Vec({'a','b','c'}, {'a':1}) == Vec({'a','b','c'}, {'a':-1})"
   ]
  }
 ],
 "metadata": {
  "kernelspec": {
   "display_name": "Python 3",
   "language": "python",
   "name": "python3"
  },
  "language_info": {
   "codemirror_mode": {
    "name": "ipython",
    "version": 3
   },
   "file_extension": ".py",
   "mimetype": "text/x-python",
   "name": "python",
   "nbconvert_exporter": "python",
   "pygments_lexer": "ipython3",
   "version": "3.5.3"
  }
 },
 "nbformat": 4,
 "nbformat_minor": 2
}
