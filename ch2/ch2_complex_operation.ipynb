{
 "cells": [
  {
   "cell_type": "code",
   "execution_count": 44,
   "metadata": {},
   "outputs": [
    {
     "name": "stdout",
     "output_type": "stream",
     "text": [
      "(3+2j) 3.0 2.0 <class 'complex'> 3.605551275463989 (3-2j)\n"
     ]
    },
    {
     "data": {
      "image/png": "[encoded data removed]",
      "text/plain": [
       "<matplotlib.figure.Figure at 0x15dbeecf9e8>"
      ]
     },
     "metadata": {},
     "output_type": "display_data"
    }
   ],
   "source": [
    "import matplotlib.pyplot as plt\n",
    "\n",
    "# complex expression\n",
    "1+1j\n",
    "a = 3+2j\n",
    "\n",
    "print(a, a.real, a.imag, type(a),abs(a),a.conjugate())\n",
    "\n",
    "# complex filed\n",
    "S = [2+2j, 3+2j, 1.75+1j, 2+1j, 2.25+1j, 2.5+1j, 2.75+1j, 3+1j, 3.25+1j ]\n",
    "X = [x.real for x in S]\n",
    "Y = [x.imag for x in S]\n",
    "plt.scatter(X,Y, color='red')\n",
    "\n",
    "# complex add \n",
    "z0 = 2+2j\n",
    "A = [ z0+s for s in S]  # S + 1+1j \n",
    "X = [x.real for x in A]\n",
    "Y = [x.imag for x in A]\n",
    "plt.scatter(X,Y, color='black')\n",
    " \n",
    "# complex scaling\n",
    "z0 = 0.25\n",
    "B = [ z0*s for s in S]  # S + 1+1j \n",
    "X = [x.real for x in B]\n",
    "Y = [x.imag for x in B]\n",
    "plt.scatter(X,Y, color='black')\n",
    "\n",
    "\n",
    "# complex -1 multiplying\n",
    "z0 = -1\n",
    "C = [ z0*s for s in S]  # S + 1+1j \n",
    "X = [x.real for x in C]\n",
    "Y = [x.imag for x in C]\n",
    "plt.scatter(X,Y, color='black')\n",
    "\n",
    "# complex 1j multiplying\n",
    "z0 = 1j\n",
    "C = [ z0*s for s in S]  # S + 1+1j \n",
    "X = [x.real for x in C]\n",
    "Y = [x.imag for x in C]\n",
    "plt.scatter(X,Y, color='black')\n",
    "\n",
    "plt.grid()\n",
    "plt.show()   \n",
    "\n"
   ]
  }
 ],
 "metadata": {
  "kernelspec": {
   "display_name": "Python 3",
   "language": "python",
   "name": "python3"
  },
  "language_info": {
   "codemirror_mode": {
    "name": "ipython",
    "version": 3
   },
   "file_extension": ".py",
   "mimetype": "text/x-python",
   "name": "python",
   "nbconvert_exporter": "python",
   "pygments_lexer": "ipython3",
   "version": "3.5.4"
  }
 },
 "nbformat": 4,
 "nbformat_minor": 2
}
