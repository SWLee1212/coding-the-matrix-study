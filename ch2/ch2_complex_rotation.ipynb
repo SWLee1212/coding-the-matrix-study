{
 "cells": [
  {
   "cell_type": "code",
   "execution_count": 125,
   "metadata": {},
   "outputs": [
    {
     "data": {
      "image/png": "[encoded data removed]",
      "text/plain": [
       "<matplotlib.figure.Figure at 0x2925e5de390>"
      ]
     },
     "metadata": {},
     "output_type": "display_data"
    }
   ],
   "source": [
    "import matplotlib.pyplot as plt\n",
    "from math import e, pi\n",
    "import numpy as np\n",
    "\n",
    "S = [2+2j, 3+2j, 1.75+1j, 2+1j, 2.25+1j, 2.5+1j, 2.75+1j, 3+1j, 3.25+1j ]\n",
    "\n",
    "X = [ np.abs(L[index]) * np.cos(np.angle(a)) for (index,a) in enumerate(L)]\n",
    "Y = [ np.abs(L[index]) * np.sin(np.angle(a)) for (index,a) in enumerate(L)]\n",
    "\n",
    "plt.scatter(X,Y, color='red')\n",
    "\n",
    "L_exp = [ np.abs(L[index]) * np.exp(1j* np.angle(a)) for (index,a) in enumerate(L)]\n",
    "\n",
    "z0 = -1j\n",
    "S = [np.exp(np.angle(z0) * 1j) * a for a in L_exp]\n",
    "\n",
    "X = [a.real for a in S]\n",
    "Y = [a.imag for a in S]\n",
    "plt.scatter(X,Y, color='black')\n",
    "\n",
    "z0 = 1j\n",
    "S = [np.exp(np.angle(z0) * 1j) * a for a in L_exp]\n",
    "\n",
    "X = [a.real for a in S]\n",
    "Y = [a.imag for a in S]\n",
    "plt.scatter(X,Y, color='black')\n",
    "\n",
    "z0 = -1\n",
    "S = [np.exp(np.angle(z0) * 1j) * a for a in L_exp]\n",
    "\n",
    "X = [a.real for a in S]\n",
    "Y = [a.imag for a in S]\n",
    "plt.scatter(X,Y, color='black')\n",
    "plt.xlim(-4, 4)\n",
    "plt.ylim(-4, 4)\n",
    "plt.gca().set_aspect('equal', adjustable='box')\n",
    "plt.grid()\n",
    "plt.show()"
   ]
  }
 ],
 "metadata": {
  "kernelspec": {
   "display_name": "Python 3",
   "language": "python",
   "name": "python3"
  },
  "language_info": {
   "codemirror_mode": {
    "name": "ipython",
    "version": 3
   },
   "file_extension": ".py",
   "mimetype": "text/x-python",
   "name": "python",
   "nbconvert_exporter": "python",
   "pygments_lexer": "ipython3",
   "version": "3.5.4"
  }
 },
 "nbformat": 4,
 "nbformat_minor": 2
}
